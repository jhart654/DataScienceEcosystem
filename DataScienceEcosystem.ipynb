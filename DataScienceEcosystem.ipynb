{
 "cells": [
  {
   "cell_type": "markdown",
   "id": "3f9bf7ce-7df3-40d4-abb8-0416f07efe22",
   "metadata": {},
   "source": [
    "# Data Science Tools and Ecosystem"
   ]
  },
  {
   "cell_type": "markdown",
   "id": "657fbb68-6f09-41df-b20f-556467b3eb85",
   "metadata": {},
   "source": [
    "In the notebook, Data Science Tools and Ecosystem are summarized"
   ]
  },
  {
   "cell_type": "markdown",
   "id": "e549d953-2e37-4224-adce-576b27546634",
   "metadata": {},
   "source": [
    "__Objectives:__\n",
    "\n",
    "* Introduction to programming languages\n",
    "* Creating a Jupyter notebook\n",
    "* Learning more about GitHub"
   ]
  },
  {
   "cell_type": "markdown",
   "id": "ed3d26b2-4242-447b-95c8-d5703460fef3",
   "metadata": {},
   "source": [
    "Some of the popular languages that Data Scientists use are:"
   ]
  },
  {
   "cell_type": "markdown",
   "id": "627dea82-2761-4a59-a3ea-a5290fd5c792",
   "metadata": {},
   "source": [
    "1. Python\n",
    "2. R\n",
    "3. SQL"
   ]
  },
  {
   "cell_type": "markdown",
   "id": "28166635-7fd9-4bf3-ba1b-b7589bb553a5",
   "metadata": {},
   "source": [
    "| Data Science Tools |\n",
    "| ------------------ |\n",
    "| Jupyter Notebook   |\n",
    "| PyCharm            |\n",
    "| RStudio            |"
   ]
  },
  {
   "cell_type": "markdown",
   "id": "78cd7ac2-e03c-41d8-8791-56c24708e028",
   "metadata": {},
   "source": [
    "### Below are a few examples of evaluating arithmetic expressions in Python"
   ]
  },
  {
   "cell_type": "code",
   "execution_count": 10,
   "id": "7f00e45e-f5a1-438b-823e-8fbea2e05034",
   "metadata": {},
   "outputs": [
    {
     "data": {
      "text/plain": [
       "17"
      ]
     },
     "execution_count": 10,
     "metadata": {},
     "output_type": "execute_result"
    }
   ],
   "source": [
    "# This is a simple arithmetic expression to multiply then add integers\n",
    "(3*4)+5"
   ]
  },
  {
   "cell_type": "code",
   "execution_count": 12,
   "id": "a58eb76a-1d9f-4ebb-ad13-330618f66814",
   "metadata": {},
   "outputs": [
    {
     "data": {
      "text/plain": [
       "3.3333333333333335"
      ]
     },
     "execution_count": 12,
     "metadata": {},
     "output_type": "execute_result"
    }
   ],
   "source": [
    "# This will convert 200 minutes to hours by diving by 60\n",
    "\n",
    "200/60"
   ]
  },
  {
   "cell_type": "markdown",
   "id": "f9e2d611-7e37-4bb7-9769-55d74c7020fe",
   "metadata": {},
   "source": [
    "## Author\n",
    "Jordan Hartman"
   ]
  },
  {
   "cell_type": "code",
   "execution_count": null,
   "id": "91284d38-4a14-489e-965b-b880712ca55e",
   "metadata": {},
   "outputs": [],
   "source": []
  }
 ],
 "metadata": {
  "kernelspec": {
   "display_name": "Python 3 (ipykernel)",
   "language": "python",
   "name": "python3"
  },
  "language_info": {
   "codemirror_mode": {
    "name": "ipython",
    "version": 3
   },
   "file_extension": ".py",
   "mimetype": "text/x-python",
   "name": "python",
   "nbconvert_exporter": "python",
   "pygments_lexer": "ipython3",
   "version": "3.12.4"
  }
 },
 "nbformat": 4,
 "nbformat_minor": 5
}
